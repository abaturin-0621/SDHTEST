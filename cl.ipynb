{
 "cells": [
  {
   "cell_type": "code",
   "execution_count": 37,
   "metadata": {},
   "outputs": [
    {
     "name": "stdout",
     "output_type": "stream",
     "text": [
      "url\n",
      "body\n",
      "response\n",
      "{'url': 'sfsf', 'body': 'body', 'response': 'response'}\n"
     ]
    }
   ],
   "source": [
    "\n",
    "import allure\n",
    "import json\n",
    "\n",
    "class Attach:\n",
    "    def __init__(self,**kwargs) -> None:\n",
    "        self.attachment={}\n",
    "        self.add(**kwargs)    \n",
    "          \n",
    "    def add(self,**kwargs)  -> None:\n",
    "        for arg in kwargs:\n",
    "            print(arg)\n",
    "            self.attachment[arg]=kwargs[arg]\n",
    "\n",
    "    def attach(self): \n",
    "        allure.attach(json.dumps(self.attachment), 'Attach Json', allure.attachment_type.JSON)      \n",
    "\n",
    "    \n",
    "        \n",
    "\n",
    "\n",
    "\n",
    "\n",
    "url=\"sfsf\"   \n",
    "body= \"body\"\n",
    "response=\"response\"         \n",
    "a=Attach(url=url,body=body)\n",
    "a.add(response=response)\n",
    "print(a.attachment)\n"
   ]
  },
  {
   "cell_type": "code",
   "execution_count": 39,
   "metadata": {},
   "outputs": [
    {
     "ename": "TypeError",
     "evalue": "isinstance() arg 2 must be a type or tuple of types",
     "output_type": "error",
     "traceback": [
      "\u001b[1;31m---------------------------------------------------------------------------\u001b[0m",
      "\u001b[1;31mTypeError\u001b[0m                                 Traceback (most recent call last)",
      "\u001b[1;32m<ipython-input-39-f97706b2ef0d>\u001b[0m in \u001b[0;36m<module>\u001b[1;34m\u001b[0m\n\u001b[0;32m      6\u001b[0m \u001b[0mz\u001b[0m\u001b[1;33m=\u001b[0m\u001b[0mOptionalFields\u001b[0m\u001b[1;33m(\u001b[0m\u001b[1;33m)\u001b[0m\u001b[1;33m\u001b[0m\u001b[1;33m\u001b[0m\u001b[0m\n\u001b[0;32m      7\u001b[0m \u001b[1;33m\u001b[0m\u001b[0m\n\u001b[1;32m----> 8\u001b[1;33m \u001b[0mprint\u001b[0m \u001b[1;33m(\u001b[0m\u001b[0misinstance\u001b[0m\u001b[1;33m(\u001b[0m\u001b[0mf\u001b[0m\u001b[1;33m,\u001b[0m\u001b[0mz\u001b[0m\u001b[1;33m)\u001b[0m\u001b[1;33m)\u001b[0m\u001b[1;33m\u001b[0m\u001b[1;33m\u001b[0m\u001b[0m\n\u001b[0m\u001b[0;32m      9\u001b[0m \u001b[1;33m\u001b[0m\u001b[0m\n\u001b[0;32m     10\u001b[0m \u001b[1;33m\u001b[0m\u001b[0m\n",
      "\u001b[1;31mTypeError\u001b[0m: isinstance() arg 2 must be a type or tuple of types"
     ]
    }
   ],
   "source": [
    "class OptionalFields:\n",
    "    pass\n",
    "\n",
    "\n",
    "f=OptionalFields()\n",
    "z=OptionalFields()\n",
    "\n",
    "print (isinstance(f,z))\n",
    "\n",
    "\n",
    "\n"
   ]
  },
  {
   "cell_type": "code",
   "execution_count": 6,
   "metadata": {},
   "outputs": [
    {
     "name": "stdout",
     "output_type": "stream",
     "text": [
      "2000-01-01 00:00:00\n"
     ]
    }
   ],
   "source": [
    "import datetime\n",
    "z=datetime.datetime(2000, 1, 1)\n",
    "print(str(z))"
   ]
  },
  {
   "cell_type": "code",
   "execution_count": 5,
   "metadata": {},
   "outputs": [
    {
     "name": "stdout",
     "output_type": "stream",
     "text": [
      "<class 'str'>\n"
     ]
    }
   ],
   "source": [
    "def det_valid_date():\n",
    "    \"\"\"Дата , пока что одна\"\"\"\n",
    "    return str(datetime.datetime(2000, 1, 1, 1, 1, 1))\n",
    "\n",
    "\n",
    "z=   det_valid_date()\n",
    "\n",
    "print(type(z))"
   ]
  },
  {
   "cell_type": "code",
   "execution_count": 7,
   "metadata": {},
   "outputs": [
    {
     "name": "stdout",
     "output_type": "stream",
     "text": [
      "2000:01:01\n"
     ]
    }
   ],
   "source": [
    "print(datetime.datetime(2000, 1, 1).strftime(\"%Y-%m-%d\"))"
   ]
  },
  {
   "cell_type": "code",
   "execution_count": 1,
   "metadata": {},
   "outputs": [
    {
     "name": "stdout",
     "output_type": "stream",
     "text": [
      "\\\n"
     ]
    }
   ],
   "source": [
    "def get_valid_slash():\n",
    "    return \"\\\\\"\n",
    "print(get_valid_slash())\n"
   ]
  }
 ],
 "metadata": {
  "interpreter": {
   "hash": "e6507b1ace7bba651a1cfccec004e7990b3536522981ab81c21a9f0a6ff77d2b"
  },
  "kernelspec": {
   "display_name": "Python 3.8.8 64-bit ('base': conda)",
   "name": "python3"
  },
  "language_info": {
   "codemirror_mode": {
    "name": "ipython",
    "version": 3
   },
   "file_extension": ".py",
   "mimetype": "text/x-python",
   "name": "python",
   "nbconvert_exporter": "python",
   "pygments_lexer": "ipython3",
   "version": "3.8.8"
  },
  "orig_nbformat": 4
 },
 "nbformat": 4,
 "nbformat_minor": 2
}
